{
 "cells": [
  {
   "cell_type": "markdown",
   "metadata": {
    "slideshow": {
     "slide_type": "slide"
    }
   },
   "source": [
    "![IE](../img/ie.png)\n",
    "\n",
    "# Advanced Python\n",
    "\n",
    "## Master in Business Analytics and Big Data, 2021-2022\n",
    "\n",
    "### Professor: Juan Luis Cano Rodríguez <jcano@faculty.ie.edu>"
   ]
  },
  {
   "cell_type": "markdown",
   "metadata": {
    "slideshow": {
     "slide_type": "slide"
    }
   },
   "source": [
    "# Outline\n",
    "\n",
    "* Who am I?\n",
    "* About this course\n",
    "  - Learning objectives\n",
    "  - Calendar\n",
    "  - Evaluation method\n",
    "  - Material\n",
    "  - Logistics"
   ]
  },
  {
   "cell_type": "markdown",
   "metadata": {
    "slideshow": {
     "slide_type": "slide"
    }
   },
   "source": [
    "# Who am I?\n",
    "\n",
    "![Me](../img/juanlu_esa.jpg)\n",
    "\n",
    "- **Aerospace Engineer** from TU Madrid, 1 year visiting student at Politecnico di Milano\n",
    "- Currently **Developer Advocate** at **Read the Docs**, an open source documentation hosting company\n",
    "  - Previously Mission Planning & Execution Engineer at Satellogic, a satellite imagery company\n",
    "- **Contributor** to the Scientific Python ecosystem: NumPy, SciPy, conda and Dask\n",
    "- **Instructor** of Python courses for Data Scientists at Airbus, Telefónica, Boeing and others\n",
    "- Experience as **Data Scientist** with Python for telco and aerospace industries\n",
    "- Former Chair of the **Python España** non profit and former co-organizer of **PyCon Spain** ([Videos from all past editions!](https://www.youtube.com/c/PythonEspañaOficial))\n",
    "- Free Software and Open Culture advocate and Python enthusiast"
   ]
  },
  {
   "cell_type": "markdown",
   "metadata": {
    "slideshow": {
     "slide_type": "slide"
    }
   },
   "source": [
    "# About this course\n",
    "\n",
    "## Learning objectives\n",
    "\n",
    "1. Learn modern software engineering practices using Python\n",
    "2. Understand the value of automation in the software engineering process\n",
    "3. Gain insight into how Data Science projects are put in production\n",
    "4. Learn better techniques to collaborate in software projects"
   ]
  },
  {
   "cell_type": "markdown",
   "metadata": {
    "slideshow": {
     "slide_type": "subslide"
    }
   },
   "source": [
    "## (My) unofficial learning objectives\n",
    "\n",
    "* Help you become autonomous Python developers\n",
    "  - ...even when left on a cluster without `sudo` and the IT guy on paternity leave\n",
    "* Make you realize how difficult can be to collaborate through git, and overcome such difficulties\n",
    "* Have fun!"
   ]
  },
  {
   "cell_type": "markdown",
   "metadata": {
    "slideshow": {
     "slide_type": "subslide"
    }
   },
   "source": [
    "## Calendar\n",
    "\n",
    "* **10 sessions** from November 26th to March 1st\n",
    "* **All sessions will be hands on**, bring your laptops and have your keyboards ready!\n",
    "* Also, **all sessions will be in person**"
   ]
  },
  {
   "cell_type": "markdown",
   "metadata": {
    "slideshow": {
     "slide_type": "subslide"
    }
   },
   "source": [
    "## Evaluation method\n",
    "\n",
    "| Criteria                   | Score % |\n",
    "|----------------------------|---------|\n",
    "| Class Participation        |  10 %   |\n",
    "| Individual Assignments     |  40 %   |\n",
    "| Group Project              |  50 %   |"
   ]
  },
  {
   "cell_type": "markdown",
   "metadata": {
    "slideshow": {
     "slide_type": "subslide"
    }
   },
   "source": [
    "## Optional assignment\n",
    "\n",
    "> Perform basic git operations\n",
    "\n",
    "* Useful for you to and also for me to understand where do we stand"
   ]
  },
  {
   "cell_type": "markdown",
   "metadata": {
    "slideshow": {
     "slide_type": "subslide"
    }
   },
   "source": [
    "## Individual assignment\n",
    "\n",
    "> **Convert a machine learning model into a Python library that can be easily deployed**\n",
    "\n",
    "- We will transform a Jupyter notebook into reusable, installable code\n",
    "- It will live on https://github.com/ (if you don't have an account yet, go create it)\n",
    "- Break down the code in smaller pieces, encapsulate in functions, add tests\n",
    "- Available on January 18th after Session 4, due February 5th EOD (End-of-Day)"
   ]
  },
  {
   "cell_type": "markdown",
   "metadata": {
    "slideshow": {
     "slide_type": "subslide"
    }
   },
   "source": [
    "## Group assignment\n",
    "\n",
    "> **Deploy a machine learning model using a simple web API**\n",
    "\n",
    "- We will start from the reusable code made earlier and build a web (REST) API on top of it\n",
    "- It will also live on https://github.com, and be accessible worldwide\n",
    "- Available on February 8th after Session 7, due February 26th EOD"
   ]
  },
  {
   "cell_type": "markdown",
   "metadata": {
    "slideshow": {
     "slide_type": "subslide"
    }
   },
   "source": [
    "## ~Exam~\n",
    "\n",
    "There is no exam 😉"
   ]
  },
  {
   "cell_type": "markdown",
   "metadata": {
    "slideshow": {
     "slide_type": "subslide"
    }
   },
   "source": [
    "## Material\n",
    "\n",
    "* Sessions notes: https://github.com/astrojuanlu/ie-mbd-advanced-python\n",
    "* Yes, everything is freely available on the Internet..."
   ]
  },
  {
   "cell_type": "markdown",
   "metadata": {
    "slideshow": {
     "slide_type": "fragment"
    }
   },
   "source": [
    "* ...so don't take these classes as a webinar! Asks questions, participate"
   ]
  },
  {
   "cell_type": "markdown",
   "metadata": {
    "slideshow": {
     "slide_type": "slide"
    }
   },
   "source": [
    "# Logistics\n",
    "\n",
    "## Q&A\n",
    "\n",
    "- Keep an eye on the \"Announcements\"\n",
    "- Use the \"Technical Q&A\" discussion board\n",
    "  - Both to ask and to answer\n",
    "  - Will count towards the participation grade"
   ]
  },
  {
   "cell_type": "markdown",
   "metadata": {
    "slideshow": {
     "slide_type": "subslide"
    },
    "tags": []
   },
   "source": [
    "# Software\n",
    "\n",
    "- GitPod for an online IDE experience on top of Linux\n",
    "- VS Code for editing files, git to track changes, Linux for everything"
   ]
  },
  {
   "cell_type": "markdown",
   "metadata": {
    "slideshow": {
     "slide_type": "slide"
    }
   },
   "source": [
    "# Insights\n",
    "\n",
    "https://www.jetbrains.com/lp/python-developers-survey-2020\n",
    "\n",
    "![OSes](../img/oses.png)"
   ]
  },
  {
   "cell_type": "markdown",
   "metadata": {
    "slideshow": {
     "slide_type": "subslide"
    }
   },
   "source": [
    "https://www.jetbrains.com/lp/python-developers-survey-2020\n",
    "\n",
    "![IDEs](../img/ides.png)"
   ]
  },
  {
   "cell_type": "markdown",
   "metadata": {
    "slideshow": {
     "slide_type": "subslide"
    }
   },
   "source": [
    "https://www.jetbrains.com/lp/python-developers-survey-2020\n",
    "\n",
    "![Practices](../img/practices.png)"
   ]
  },
  {
   "cell_type": "markdown",
   "metadata": {
    "slideshow": {
     "slide_type": "slide"
    }
   },
   "source": [
    "# Shall we begin?\n",
    "\n",
    "![Talk is cheap](../img/quote-talk-is-cheap-show-me-the-code-linus-torvalds-273528.jpg)"
   ]
  }
 ],
 "metadata": {
  "celltoolbar": "Slideshow",
  "kernelspec": {
   "display_name": "Python 3 (ipykernel)",
   "language": "python",
   "name": "python3"
  },
  "language_info": {
   "codemirror_mode": {
    "name": "ipython",
    "version": 3
   },
   "file_extension": ".py",
   "mimetype": "text/x-python",
   "name": "python",
   "nbconvert_exporter": "python",
   "pygments_lexer": "ipython3",
   "version": "3.9.9"
  }
 },
 "nbformat": 4,
 "nbformat_minor": 4
}
